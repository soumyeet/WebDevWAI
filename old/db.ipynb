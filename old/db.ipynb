{
 "cells": [
  {
   "cell_type": "code",
   "execution_count": 1,
   "metadata": {},
   "outputs": [],
   "source": [
    "import google.generativeai as genai"
   ]
  },
  {
   "cell_type": "code",
   "execution_count": 7,
   "metadata": {},
   "outputs": [],
   "source": [
    "import yaml\n",
    "with open('config.yaml', 'r') as f:\n",
    "    config = yaml.safe_load(f)\n",
    "GEMINI_API_KEY = config['GEMINI_API_KEY']\n",
    "genai.configure(api_key=GEMINI_API_KEY)"
   ]
  },
  {
   "cell_type": "code",
   "execution_count": 8,
   "metadata": {},
   "outputs": [
    {
     "name": "stdout",
     "output_type": "stream",
     "text": [
      "AI is increasingly playing a significant role for Full Stack Web Developers, impacting various aspects of their workflow and capabilities. Here's a breakdown of the key roles:\n",
      "\n",
      "**1. Code Generation and Completion:**\n",
      "\n",
      "*   **Accelerated Development:** AI tools can generate boilerplate code, component structures, or even entire sections of functionality based on simple prompts or descriptions. This speeds up development time and reduces repetitive tasks.\n",
      "*   **Code Autocompletion:**  AI-powered IDE extensions (like GitHub Copilot, Tabnine) analyze the context of your code and suggest relevant code snippets, functions, or even complete code blocks, significantly improving coding speed and accuracy.\n",
      "*   **Example:** You might type \"React component for displaying a product card\" and an AI tool could generate a basic React component with placeholder values and styling.\n",
      "\n",
      "**2. Code Analysis and Debugging:**\n",
      "\n",
      "*   **Identifying Bugs and Vulnerabilities:** AI algorithms can analyze code for potential bugs, security vulnerabilities (like SQL injection or cross-site scripting), and performance bottlenecks.  Tools like SonarQube leverage AI for code quality analysis.\n",
      "*   **Smart Debugging:**  AI can help analyze error messages and stack traces to identify the root cause of bugs more quickly.  Some tools can even suggest possible fixes.\n",
      "*   **Code Refactoring Suggestions:**  AI can identify areas where code could be improved for readability, maintainability, and performance, suggesting refactoring opportunities.\n",
      "\n",
      "**3. Testing and Quality Assurance:**\n",
      "\n",
      "*   **Automated Test Case Generation:**  AI can generate test cases based on the code, user stories, or specifications, helping to ensure thorough test coverage.\n",
      "*   **Intelligent Test Execution:** AI can prioritize and execute test cases based on their likelihood of detecting bugs, optimizing the testing process.\n",
      "*   **Visual Testing:**  AI can automate the process of visually verifying that web applications render correctly across different browsers and devices.\n",
      "\n",
      "**4. Front-End Development Enhancement:**\n",
      "\n",
      "*   **UI/UX Design Assistance:** AI can help suggest UI layouts, color palettes, and design elements based on user preferences, industry best practices, and accessibility guidelines.  Tools like Uizard leverage AI for converting designs into code.\n",
      "*   **Chatbot and Virtual Assistant Integration:** Full Stack developers can use AI-powered platforms like Dialogflow or Rasa to build chatbots and virtual assistants into their web applications, providing personalized customer service and support.\n",
      "*   **Image and Video Processing:** AI can be used for tasks like image recognition, object detection, and video analysis to enhance the functionality of web applications.\n",
      "\n",
      "**5. Back-End Development Optimization:**\n",
      "\n",
      "*   **Database Optimization:** AI can analyze database queries and suggest optimizations to improve performance and scalability.\n",
      "*   **Server Monitoring and Performance Analysis:** AI can monitor server performance metrics and identify potential bottlenecks or performance issues.\n",
      "*   **API Management:**  AI can assist in managing and securing APIs by detecting anomalies, predicting traffic patterns, and identifying potential vulnerabilities.\n",
      "\n",
      "**6. Content Management and Personalization:**\n",
      "\n",
      "*   **Content Generation:**  AI writing tools can assist in generating different kinds of text-based content, such as product descriptions, blog posts, and website copy.\n",
      "*   **Personalized Recommendations:**  AI-powered recommendation engines can personalize the user experience by suggesting relevant products, services, or content based on their past behavior and preferences.\n",
      "*   **A/B Testing and Experimentation:**  AI can automate A/B testing and experimentation, helping to optimize website content and features for maximum engagement and conversion rates.\n",
      "\n",
      "**7. Project Management and Collaboration:**\n",
      "\n",
      "*   **Task Automation:** AI can automate repetitive tasks like creating tasks, assigning them to team members, and tracking progress.\n",
      "*   **Predictive Analytics:** AI can analyze project data to predict potential risks and delays, allowing developers to take proactive measures.\n",
      "*   **Enhanced Communication:**  AI-powered tools can assist in translating languages, summarizing conversations, and improving communication within development teams.\n",
      "\n",
      "**Impact on Full Stack Developers:**\n",
      "\n",
      "*   **Increased Productivity:**  AI tools automate repetitive tasks and provide intelligent assistance, allowing developers to focus on more complex and creative aspects of their work.\n",
      "*   **Improved Code Quality:** AI tools help identify and fix bugs, vulnerabilities, and performance issues, resulting in higher-quality code.\n",
      "*   **Enhanced User Experience:**  AI helps developers create more personalized and engaging user experiences by providing personalized content, recommendations, and support.\n",
      "*   **New Skill Requirements:**  Full Stack Developers need to learn how to effectively use and integrate AI tools into their workflow.  Understanding AI concepts, data science principles, and machine learning algorithms is becoming increasingly valuable.\n",
      "*   **Focus Shift:** The role of a full stack developer might shift towards overseeing AI-powered development and focusing on the higher-level architectural design, complex problem-solving, and creative implementation aspects of web application development.\n",
      "\n",
      "**Important Considerations:**\n",
      "\n",
      "*   **AI is a tool, not a replacement:** AI tools are designed to assist developers, not replace them. Human expertise and creativity are still essential for building complex and innovative web applications.\n",
      "*   **Ethical Implications:**  Developers need to be aware of the ethical implications of using AI in web applications, such as data privacy, bias, and fairness.\n",
      "*   **Security Considerations:** AI-powered systems can also be vulnerable to attacks. Developers need to take steps to secure AI models and protect against adversarial attacks.\n",
      "*   **Continuous Learning:**  The field of AI is constantly evolving. Full Stack Developers need to stay up-to-date on the latest AI technologies and trends.\n",
      "\n",
      "In conclusion, AI is transforming the role of Full Stack Web Developers by automating tasks, improving code quality, enhancing user experiences, and creating new opportunities for innovation. By embracing AI tools and techniques, Full Stack Developers can become more productive, efficient, and valuable assets to their organizations.\n",
      "\n"
     ]
    }
   ],
   "source": [
    "model = genai.GenerativeModel('gemini-2.0-flash-exp')\n",
    "response = model.generate_content(\"What role do AI play for Full Stack Web Developers?\")\n",
    "print(response.text)"
   ]
  },
  {
   "cell_type": "code",
   "execution_count": 9,
   "metadata": {},
   "outputs": [],
   "source": [
    "def save_file(filename: str, content: str) -> str:\n",
    "    \"\"\"\n",
    "    Saves raw text in the content string to a file specified by filename string\n",
    "    \"\"\"\n",
    "    with open(filename, 'w') as f:\n",
    "        f.write(content)"
   ]
  },
  {
   "cell_type": "code",
   "execution_count": 19,
   "metadata": {},
   "outputs": [],
   "source": [
    "PROMPT = \"\"\"\n",
    "<Task> Design a Sql database for my recruitment helper website </Task>\n",
    "<SubTasks> \n",
    "    <1> Decide a suitable database schema for my use-case. Think step by step for my requirements, and identify important attributes for my use case.\n",
    "        We need to store applicant name, applicant key, skills, experience, projects, position of responsibilities, and achievements, and we need a single database that will work for all my current and future applicants. </1>\n",
    "    <2> Applicant name and applicant key will be in one table where it will have other information like age gender university degree etc. basic info of a human. contact number and email etc.</2>\n",
    "    <3> Skills, experience, projects, position of responsibilities, and achievements will be in another table where we will have a foreign key to the applicant table. This will have the text descriptions, with seperate tables for company name/organisation name, duration, skills utilised, description. </3>\n",
    "    <4> Another table where it quantifies the applicants qualities with a number between 1-100 describing each quality with the topics: leadership, creativity, problem solver, communication, and technical skills. </4>\n",
    "    <5> After deciding upon schema, you will have to use SqlLite schema to generate the database. Add this to your python scripty </5>\n",
    "    <6> Think hard for good design pattern and right way before creating the database, you need to populate sample data in the database as well. For this make sure to add this to script for this as well </6>\n",
    "    <7> Write a final python script that will do the required tasks, save it using save_file tool.</7>\n",
    "</SubTasks>\n",
    "<Tools>save_file</Tools>\n",
    "\"\"\""
   ]
  },
  {
   "cell_type": "code",
   "execution_count": 21,
   "metadata": {},
   "outputs": [
    {
     "data": {
      "text/plain": [
       "response:\n",
       "GenerateContentResponse(\n",
       "    done=True,\n",
       "    iterator=None,\n",
       "    result=protos.GenerateContentResponse({\n",
       "      \"candidates\": [\n",
       "        {\n",
       "          \"content\": {\n",
       "            \"parts\": [\n",
       "              {\n",
       "                \"text\": \"The script has been saved to `recruitment_db_generator.py`. You can run this script to create the `recruitment.db` SQLite database with the specified schema and sample data.\\n\"\n",
       "              }\n",
       "            ],\n",
       "            \"role\": \"model\"\n",
       "          },\n",
       "          \"finish_reason\": \"STOP\",\n",
       "          \"avg_logprobs\": -0.15999654444252573\n",
       "        }\n",
       "      ],\n",
       "      \"usage_metadata\": {\n",
       "        \"prompt_token_count\": 3837,\n",
       "        \"candidates_token_count\": 41,\n",
       "        \"total_token_count\": 3878\n",
       "      },\n",
       "      \"model_version\": \"gemini-2.0-flash-exp\"\n",
       "    }),\n",
       ")"
      ]
     },
     "execution_count": 21,
     "metadata": {},
     "output_type": "execute_result"
    }
   ],
   "source": [
    "model = genai.GenerativeModel('gemini-2.0-flash-exp',tools=[save_file])\n",
    "chat = model.start_chat(enable_automatic_function_calling=True)\n",
    "chat.send_message(PROMPT)"
   ]
  },
  {
   "cell_type": "code",
   "execution_count": null,
   "metadata": {},
   "outputs": [],
   "source": []
  },
  {
   "cell_type": "code",
   "execution_count": null,
   "metadata": {},
   "outputs": [],
   "source": []
  }
 ],
 "metadata": {
  "kernelspec": {
   "display_name": "base",
   "language": "python",
   "name": "python3"
  },
  "language_info": {
   "codemirror_mode": {
    "name": "ipython",
    "version": 3
   },
   "file_extension": ".py",
   "mimetype": "text/x-python",
   "name": "python",
   "nbconvert_exporter": "python",
   "pygments_lexer": "ipython3",
   "version": "3.12.4"
  }
 },
 "nbformat": 4,
 "nbformat_minor": 2
}
